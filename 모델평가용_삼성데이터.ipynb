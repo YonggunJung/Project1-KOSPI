{
  "cells": [
    {
      "cell_type": "markdown",
      "metadata": {
        "id": "view-in-github",
        "colab_type": "text"
      },
      "source": [
        "<a href=\"https://colab.research.google.com/github/YonggunJung/Project1-KOSPI/blob/main/%EB%AA%A8%EB%8D%B8%ED%8F%89%EA%B0%80%EC%9A%A9_%EC%82%BC%EC%84%B1%EB%8D%B0%EC%9D%B4%ED%84%B0.ipynb\" target=\"_parent\"><img src=\"https://colab.research.google.com/assets/colab-badge.svg\" alt=\"Open In Colab\"/></a>"
      ]
    },
    {
      "cell_type": "code",
      "execution_count": null,
      "id": "9549c456",
      "metadata": {
        "id": "9549c456"
      },
      "outputs": [],
      "source": [
        "# 기본\n",
        "import pandas as pd\n",
        "import numpy as np\n",
        "import matplotlib.pyplot as plt\n",
        "import seaborn as sns\n",
        "\n",
        "import os\n",
        "import shutil\n",
        "\n",
        "# 경고 뜨지 않게..\n",
        "import warnings\n",
        "warnings.filterwarnings('ignore')\n",
        "\n",
        "# 그래프 설정\n",
        "plt.rcParams['font.family'] = 'Malgun Gothic'\n",
        "# plt.rcParams['font.family'] = 'AppleGothic'\n",
        "plt.rcParams['font.size'] = 16\n",
        "plt.rcParams['figure.figsize'] = 20, 10\n",
        "plt.rcParams['axes.unicode_minus'] = False\n",
        "\n",
        "# 랜덤 모듈\n",
        "import random\n",
        "\n",
        "# 학습 모델 저장 및 복원\n",
        "import pickle\n",
        "\n",
        "# 딥러닝 라이브러리\n",
        "import tensorflow as tf\n",
        "# 신경망 모델을 관리하는 객체\n",
        "from tensorflow.keras.models import Sequential\n",
        "# 선형 회귀 레이어\n",
        "from tensorflow.keras.layers import Dense\n",
        "# 활성화 함수를 정의하는 객체\n",
        "from tensorflow.keras.layers import Activation\n",
        "# CNN : 커널을 통해 합성곱을 구하는 것, 이미지의 특징이 두드러지게 한다.\n",
        "from tensorflow.keras.layers import Conv2D\n",
        "from tensorflow.keras.layers import Conv1D\n",
        "# MaxPooling : 커널내에서 가장 큰 값을 추출하는 방식으로 불필요한 부분을 제거한다., 값이 작은부분은 빠져버린다\n",
        "from tensorflow.keras.layers import MaxPool2D\n",
        "from tensorflow.keras.layers import MaxPool1D\n",
        "# Flatten : 다차원의 이미지 데이터를 선형회귀 은닉층으로 전달하기 전에\n",
        "# 1차원으로 변환하는것\n",
        "from tensorflow.keras.layers import Flatten\n",
        "# Dropout : 이미지나 영상, 음파등의 데이터는 오랫동안 학습을 진행 시켜야 한다.\n",
        "# 하지만 너무 빨리 과적합이 발생되면 조기 중단 때문에 학습 횟수가 줄어들 수 있다.\n",
        "# 이에 은닉의 노드를 일부 사용하지 않으므로써 과적합이 빨리 오는것을 예방하고\n",
        "# 오랫동안 학습이 진행될 수있도록한다\n",
        "from tensorflow.keras.layers import Dropout\n",
        "# Embedding : 단어의 수를 조정한다.\n",
        "from tensorflow.keras.layers import Embedding\n",
        "\n",
        "# LSTM\n",
        "from tensorflow.keras.layers import LSTM\n",
        "\n",
        "\n",
        "from tensorflow.keras.layers import Input, Dense, LSTM, Bidirectional\n",
        "\n",
        "\n",
        "\n",
        "# 원핫 인코딩을 수행하는 함수\n",
        "from tensorflow.keras.utils import to_categorical\n",
        "\n",
        "# 저장된 학습 모델을 복원한다.\n",
        "from tensorflow.keras.models import load_model\n",
        "\n",
        "# 모델을 자동 저장한다.\n",
        "from tensorflow.keras.callbacks import ModelCheckpoint\n",
        "\n",
        "# 성능이 더이상 좋아지지 않을 경우 중단 시킨다.\n",
        "from tensorflow.keras.callbacks import EarlyStopping\n",
        "\n",
        "# 문장을 잘라준다.\n",
        "from tensorflow.keras.preprocessing.text import Tokenizer\n",
        "# 모든 문장 데이터의 단어 데이터의 수를 동일한 수로 맞춰준다.\n",
        "from tensorflow.keras.preprocessing.sequence import pad_sequences\n",
        "# 문자열을 가지고 단어 사전을 만들어준다.\n",
        "from tensorflow.keras.preprocessing.text import text_to_word_sequence\n",
        "\n",
        "\n",
        "# 평가함수\n",
        "# 분류용\n",
        "from sklearn.metrics import accuracy_score\n",
        "from sklearn.metrics import precision_score\n",
        "from sklearn.metrics import recall_score\n",
        "from sklearn.metrics import f1_score\n",
        "from sklearn.metrics import roc_auc_score\n",
        "\n",
        "# 회귀용\n",
        "from sklearn.metrics import r2_score\n",
        "from sklearn.metrics import mean_squared_error\n",
        "\n",
        "# 표준화\n",
        "from sklearn.preprocessing import StandardScaler\n",
        "from sklearn.preprocessing import MinMaxScaler\n",
        "# 문자열 -> 숫자\n",
        "from sklearn.preprocessing import LabelEncoder\n",
        "\n",
        "# 전체데이터를 학습용과 검증으로 나눈다.\n",
        "from sklearn.model_selection import train_test_split\n",
        "\n",
        "# 랜덤시드 설정\n",
        "# 데이터를 랜덤하게 섞거나 가중치를 랜덤하게 설정하는 등..\n",
        "# 작업에서 랜덤을 적용하는 경우가 더러 있다.\n",
        "# 이에, 시드를 고정시킨다.\n",
        "random_seed = 1\n",
        "\n",
        "np.random.seed(random_seed)\n",
        "random.seed(random_seed)\n",
        "tf.random.set_seed(random_seed)\n",
        "\n",
        "# 현재 프로젝트에서 GPU 메모리 사용을 필요한 만큼만 쓸 수 있도록 한다.\n",
        "# 컴퓨터에 있는 GPU 정보들을 가져온다.\n",
        "gpus = tf.config.experimental.list_physical_devices('GPU')\n",
        "# gpu가 있다면...\n",
        "if len(gpus) > 0 :\n",
        "    try :\n",
        "        for gpu in gpus :\n",
        "            tf.config.experimental.set_memory_growth(gpu, True)\n",
        "    except RuntimeError as e :\n",
        "        print(e)\n",
        "\n",
        "from tensorflow.keras.layers import Dense, Embedding, Bidirectional, LSTM, Concatenate, Dropout\n",
        "from tensorflow.keras import Input, Model\n",
        "from tensorflow.keras import optimizers\n",
        "import os"
      ]
    },
    {
      "cell_type": "code",
      "execution_count": null,
      "id": "ca6bf80f",
      "metadata": {
        "scrolled": true,
        "id": "ca6bf80f",
        "outputId": "da33cca1-ecd8-44ec-a002-348557377e7a"
      },
      "outputs": [
        {
          "data": {
            "text/html": [
              "<div>\n",
              "<style scoped>\n",
              "    .dataframe tbody tr th:only-of-type {\n",
              "        vertical-align: middle;\n",
              "    }\n",
              "\n",
              "    .dataframe tbody tr th {\n",
              "        vertical-align: top;\n",
              "    }\n",
              "\n",
              "    .dataframe thead th {\n",
              "        text-align: right;\n",
              "    }\n",
              "</style>\n",
              "<table border=\"1\" class=\"dataframe\">\n",
              "  <thead>\n",
              "    <tr style=\"text-align: right;\">\n",
              "      <th></th>\n",
              "      <th>거래일</th>\n",
              "      <th>최고가</th>\n",
              "      <th>최저가</th>\n",
              "      <th>시작가</th>\n",
              "      <th>종가</th>\n",
              "      <th>거래량</th>\n",
              "      <th>수정종가</th>\n",
              "    </tr>\n",
              "  </thead>\n",
              "  <tbody>\n",
              "    <tr>\n",
              "      <th>0</th>\n",
              "      <td>2010-01-04</td>\n",
              "      <td>16180.0</td>\n",
              "      <td>16000.0</td>\n",
              "      <td>16060.0</td>\n",
              "      <td>16180.0</td>\n",
              "      <td>11950800.0</td>\n",
              "      <td>12810.791016</td>\n",
              "    </tr>\n",
              "    <tr>\n",
              "      <th>1</th>\n",
              "      <td>2010-01-05</td>\n",
              "      <td>16580.0</td>\n",
              "      <td>16300.0</td>\n",
              "      <td>16520.0</td>\n",
              "      <td>16440.0</td>\n",
              "      <td>27925850.0</td>\n",
              "      <td>13016.649414</td>\n",
              "    </tr>\n",
              "    <tr>\n",
              "      <th>2</th>\n",
              "      <td>2010-01-06</td>\n",
              "      <td>16820.0</td>\n",
              "      <td>16520.0</td>\n",
              "      <td>16580.0</td>\n",
              "      <td>16820.0</td>\n",
              "      <td>22948850.0</td>\n",
              "      <td>13317.520508</td>\n",
              "    </tr>\n",
              "    <tr>\n",
              "      <th>3</th>\n",
              "      <td>2010-01-07</td>\n",
              "      <td>16820.0</td>\n",
              "      <td>16260.0</td>\n",
              "      <td>16820.0</td>\n",
              "      <td>16260.0</td>\n",
              "      <td>22107950.0</td>\n",
              "      <td>12874.130859</td>\n",
              "    </tr>\n",
              "    <tr>\n",
              "      <th>4</th>\n",
              "      <td>2010-01-08</td>\n",
              "      <td>16420.0</td>\n",
              "      <td>16120.0</td>\n",
              "      <td>16400.0</td>\n",
              "      <td>16420.0</td>\n",
              "      <td>14777550.0</td>\n",
              "      <td>13000.811523</td>\n",
              "    </tr>\n",
              "    <tr>\n",
              "      <th>...</th>\n",
              "      <td>...</td>\n",
              "      <td>...</td>\n",
              "      <td>...</td>\n",
              "      <td>...</td>\n",
              "      <td>...</td>\n",
              "      <td>...</td>\n",
              "      <td>...</td>\n",
              "    </tr>\n",
              "    <tr>\n",
              "      <th>3092</th>\n",
              "      <td>2022-08-12</td>\n",
              "      <td>60700.0</td>\n",
              "      <td>59400.0</td>\n",
              "      <td>59500.0</td>\n",
              "      <td>60200.0</td>\n",
              "      <td>10786658.0</td>\n",
              "      <td>60200.000000</td>\n",
              "    </tr>\n",
              "    <tr>\n",
              "      <th>3093</th>\n",
              "      <td>2022-08-16</td>\n",
              "      <td>61600.0</td>\n",
              "      <td>60300.0</td>\n",
              "      <td>60500.0</td>\n",
              "      <td>61000.0</td>\n",
              "      <td>15036727.0</td>\n",
              "      <td>61000.000000</td>\n",
              "    </tr>\n",
              "    <tr>\n",
              "      <th>3094</th>\n",
              "      <td>2022-08-17</td>\n",
              "      <td>61200.0</td>\n",
              "      <td>60300.0</td>\n",
              "      <td>61100.0</td>\n",
              "      <td>60400.0</td>\n",
              "      <td>9061518.0</td>\n",
              "      <td>60400.000000</td>\n",
              "    </tr>\n",
              "    <tr>\n",
              "      <th>3095</th>\n",
              "      <td>2022-08-18</td>\n",
              "      <td>61900.0</td>\n",
              "      <td>60000.0</td>\n",
              "      <td>60300.0</td>\n",
              "      <td>61500.0</td>\n",
              "      <td>16372754.0</td>\n",
              "      <td>61500.000000</td>\n",
              "    </tr>\n",
              "    <tr>\n",
              "      <th>3096</th>\n",
              "      <td>2022-08-19</td>\n",
              "      <td>61600.0</td>\n",
              "      <td>60600.0</td>\n",
              "      <td>61400.0</td>\n",
              "      <td>60900.0</td>\n",
              "      <td>6866847.0</td>\n",
              "      <td>60900.000000</td>\n",
              "    </tr>\n",
              "  </tbody>\n",
              "</table>\n",
              "<p>3097 rows × 7 columns</p>\n",
              "</div>"
            ],
            "text/plain": [
              "             거래일      최고가      최저가      시작가       종가         거래량          수정종가\n",
              "0     2010-01-04  16180.0  16000.0  16060.0  16180.0  11950800.0  12810.791016\n",
              "1     2010-01-05  16580.0  16300.0  16520.0  16440.0  27925850.0  13016.649414\n",
              "2     2010-01-06  16820.0  16520.0  16580.0  16820.0  22948850.0  13317.520508\n",
              "3     2010-01-07  16820.0  16260.0  16820.0  16260.0  22107950.0  12874.130859\n",
              "4     2010-01-08  16420.0  16120.0  16400.0  16420.0  14777550.0  13000.811523\n",
              "...          ...      ...      ...      ...      ...         ...           ...\n",
              "3092  2022-08-12  60700.0  59400.0  59500.0  60200.0  10786658.0  60200.000000\n",
              "3093  2022-08-16  61600.0  60300.0  60500.0  61000.0  15036727.0  61000.000000\n",
              "3094  2022-08-17  61200.0  60300.0  61100.0  60400.0   9061518.0  60400.000000\n",
              "3095  2022-08-18  61900.0  60000.0  60300.0  61500.0  16372754.0  61500.000000\n",
              "3096  2022-08-19  61600.0  60600.0  61400.0  60900.0   6866847.0  60900.000000\n",
              "\n",
              "[3097 rows x 7 columns]"
            ]
          },
          "execution_count": 2,
          "metadata": {},
          "output_type": "execute_result"
        }
      ],
      "source": [
        "# 데이터를 읽어온다.\n",
        "cell = pd.read_csv('./data/samsung_stock.csv')\n",
        "cell"
      ]
    },
    {
      "cell_type": "code",
      "execution_count": null,
      "id": "a03c6e23",
      "metadata": {
        "id": "a03c6e23"
      },
      "outputs": [],
      "source": [
        "# 불필요한 컬럼을 제거한다.\n",
        "cell.drop(['거래일', '수정종가'], axis=1, inplace=True)"
      ]
    },
    {
      "cell_type": "code",
      "execution_count": null,
      "id": "8b5bb52e",
      "metadata": {
        "id": "8b5bb52e",
        "outputId": "0f8bda01-26da-4ee4-df39-ecacf17f74ff"
      },
      "outputs": [
        {
          "data": {
            "text/html": [
              "<div>\n",
              "<style scoped>\n",
              "    .dataframe tbody tr th:only-of-type {\n",
              "        vertical-align: middle;\n",
              "    }\n",
              "\n",
              "    .dataframe tbody tr th {\n",
              "        vertical-align: top;\n",
              "    }\n",
              "\n",
              "    .dataframe thead th {\n",
              "        text-align: right;\n",
              "    }\n",
              "</style>\n",
              "<table border=\"1\" class=\"dataframe\">\n",
              "  <thead>\n",
              "    <tr style=\"text-align: right;\">\n",
              "      <th></th>\n",
              "      <th>최고가</th>\n",
              "      <th>최저가</th>\n",
              "      <th>시작가</th>\n",
              "      <th>거래량</th>\n",
              "    </tr>\n",
              "  </thead>\n",
              "  <tbody>\n",
              "    <tr>\n",
              "      <th>0</th>\n",
              "      <td>16180.0</td>\n",
              "      <td>16000.0</td>\n",
              "      <td>16060.0</td>\n",
              "      <td>11950800.0</td>\n",
              "    </tr>\n",
              "    <tr>\n",
              "      <th>1</th>\n",
              "      <td>16580.0</td>\n",
              "      <td>16300.0</td>\n",
              "      <td>16520.0</td>\n",
              "      <td>27925850.0</td>\n",
              "    </tr>\n",
              "    <tr>\n",
              "      <th>2</th>\n",
              "      <td>16820.0</td>\n",
              "      <td>16520.0</td>\n",
              "      <td>16580.0</td>\n",
              "      <td>22948850.0</td>\n",
              "    </tr>\n",
              "    <tr>\n",
              "      <th>3</th>\n",
              "      <td>16820.0</td>\n",
              "      <td>16260.0</td>\n",
              "      <td>16820.0</td>\n",
              "      <td>22107950.0</td>\n",
              "    </tr>\n",
              "    <tr>\n",
              "      <th>4</th>\n",
              "      <td>16420.0</td>\n",
              "      <td>16120.0</td>\n",
              "      <td>16400.0</td>\n",
              "      <td>14777550.0</td>\n",
              "    </tr>\n",
              "    <tr>\n",
              "      <th>...</th>\n",
              "      <td>...</td>\n",
              "      <td>...</td>\n",
              "      <td>...</td>\n",
              "      <td>...</td>\n",
              "    </tr>\n",
              "    <tr>\n",
              "      <th>3092</th>\n",
              "      <td>60700.0</td>\n",
              "      <td>59400.0</td>\n",
              "      <td>59500.0</td>\n",
              "      <td>10786658.0</td>\n",
              "    </tr>\n",
              "    <tr>\n",
              "      <th>3093</th>\n",
              "      <td>61600.0</td>\n",
              "      <td>60300.0</td>\n",
              "      <td>60500.0</td>\n",
              "      <td>15036727.0</td>\n",
              "    </tr>\n",
              "    <tr>\n",
              "      <th>3094</th>\n",
              "      <td>61200.0</td>\n",
              "      <td>60300.0</td>\n",
              "      <td>61100.0</td>\n",
              "      <td>9061518.0</td>\n",
              "    </tr>\n",
              "    <tr>\n",
              "      <th>3095</th>\n",
              "      <td>61900.0</td>\n",
              "      <td>60000.0</td>\n",
              "      <td>60300.0</td>\n",
              "      <td>16372754.0</td>\n",
              "    </tr>\n",
              "    <tr>\n",
              "      <th>3096</th>\n",
              "      <td>61600.0</td>\n",
              "      <td>60600.0</td>\n",
              "      <td>61400.0</td>\n",
              "      <td>6866847.0</td>\n",
              "    </tr>\n",
              "  </tbody>\n",
              "</table>\n",
              "<p>3097 rows × 4 columns</p>\n",
              "</div>"
            ],
            "text/plain": [
              "          최고가      최저가      시작가         거래량\n",
              "0     16180.0  16000.0  16060.0  11950800.0\n",
              "1     16580.0  16300.0  16520.0  27925850.0\n",
              "2     16820.0  16520.0  16580.0  22948850.0\n",
              "3     16820.0  16260.0  16820.0  22107950.0\n",
              "4     16420.0  16120.0  16400.0  14777550.0\n",
              "...       ...      ...      ...         ...\n",
              "3092  60700.0  59400.0  59500.0  10786658.0\n",
              "3093  61600.0  60300.0  60500.0  15036727.0\n",
              "3094  61200.0  60300.0  61100.0   9061518.0\n",
              "3095  61900.0  60000.0  60300.0  16372754.0\n",
              "3096  61600.0  60600.0  61400.0   6866847.0\n",
              "\n",
              "[3097 rows x 4 columns]"
            ]
          },
          "metadata": {},
          "output_type": "display_data"
        },
        {
          "data": {
            "text/plain": [
              "0       16180.0\n",
              "1       16440.0\n",
              "2       16820.0\n",
              "3       16260.0\n",
              "4       16420.0\n",
              "         ...   \n",
              "3092    60200.0\n",
              "3093    61000.0\n",
              "3094    60400.0\n",
              "3095    61500.0\n",
              "3096    60900.0\n",
              "Name: 종가, Length: 3097, dtype: float64"
            ]
          },
          "metadata": {},
          "output_type": "display_data"
        }
      ],
      "source": [
        "# 입력과 결과로 나눈다.\n",
        "X = cell.drop('종가', axis = 1)\n",
        "y = cell['종가']\n",
        "\n",
        "display(X)\n",
        "display(y)"
      ]
    },
    {
      "cell_type": "code",
      "execution_count": null,
      "id": "67998950",
      "metadata": {
        "id": "67998950",
        "outputId": "dfe27950-b11d-42b0-e758-af73c978da64"
      },
      "outputs": [
        {
          "data": {
            "text/plain": [
              "array([[-1.18299484, -1.17324522, -1.17992113, -0.40244887],\n",
              "       [-1.16199841, -1.1572267 , -1.15557248,  1.76804556],\n",
              "       [-1.14940055, -1.14547979, -1.15239656,  1.09183167],\n",
              "       ...,\n",
              "       [ 1.18015351,  1.19215642,  1.20412998, -0.79500917],\n",
              "       [ 1.21689727,  1.1761379 ,  1.16178449,  0.19835216],\n",
              "       [ 1.20114994,  1.20817495,  1.22000954, -1.09319423]])"
            ]
          },
          "execution_count": 6,
          "metadata": {},
          "output_type": "execute_result"
        }
      ],
      "source": [
        "# 표준화\n",
        "scaler1 = StandardScaler()\n",
        "# X = X.array.reshape(-1,1)\n",
        "X = scaler1.fit_transform(X)\n",
        "X"
      ]
    },
    {
      "cell_type": "code",
      "execution_count": null,
      "id": "02c23e82",
      "metadata": {
        "id": "02c23e82",
        "outputId": "3671b2a6-92eb-4e59-9f5b-c55b4429c407"
      },
      "outputs": [
        {
          "data": {
            "text/plain": [
              "array([[0.03333333],\n",
              "       [0.03669251],\n",
              "       [0.04160207],\n",
              "       ...,\n",
              "       [0.60465116],\n",
              "       [0.61886305],\n",
              "       [0.61111111]])"
            ]
          },
          "execution_count": 7,
          "metadata": {},
          "output_type": "execute_result"
        }
      ],
      "source": [
        "scaler2 = MinMaxScaler()\n",
        "y = scaler2.fit_transform(y.values.reshape(-1, 1))\n",
        "y"
      ]
    },
    {
      "cell_type": "code",
      "execution_count": null,
      "id": "99f04c63",
      "metadata": {
        "id": "99f04c63"
      },
      "outputs": [],
      "source": [
        "# # 2진 분류 옵션들\n",
        "# out_nodes = 1\n",
        "# loss_function = 'binary_crossentropy'\n",
        "# activation_function = 'sigmoid'\n",
        "\n",
        "# 다중 분류 옵션들\n",
        "# out_nodes = len(y.value_counts())\n",
        "# loss_function = 'categorical_crossentropy'\n",
        "# activation_function = 'softmax'\n",
        "\n",
        "# 회귀\n",
        "# 출력 결과를 하나만 뽑아서 Series로 나왔다면...\n",
        "# 1로 설정한다.\n",
        "if type(y) is pd.core.series.Series :\n",
        "    out_nodes = 1\n",
        "else :\n",
        "    out_nodes = y.shape[1]\n",
        "\n",
        "loss_function = 'mean_squared_error'"
      ]
    },
    {
      "cell_type": "code",
      "execution_count": null,
      "id": "de286da0",
      "metadata": {
        "id": "de286da0",
        "outputId": "c5f3bfd5-ab16-4224-aff0-507164f3684d"
      },
      "outputs": [
        {
          "data": {
            "text/plain": [
              "4"
            ]
          },
          "execution_count": 9,
          "metadata": {},
          "output_type": "execute_result"
        }
      ],
      "source": [
        "# 입력노드의 개수\n",
        "input_size = X.shape[1]\n",
        "input_size"
      ]
    },
    {
      "cell_type": "code",
      "execution_count": null,
      "id": "c8693327",
      "metadata": {
        "id": "c8693327"
      },
      "outputs": [],
      "source": [
        "# 시퀀스 데이터셋 구성\n",
        "# 시퀀스 데이터 : 순서를 가지고 있는 데이터를 의미한다.\n",
        "def windowed_dataset(series, window_size, batch_size, shuffle) :\n",
        "    # 데이터의 차원을 1차원으로 조정한다.\n",
        "    series = tf.expand_dims(series, axis=-1)\n",
        "    # 데이터셋 객체를 생성한다.\n",
        "    ds = tf.data.Dataset.from_tensor_slices(series)\n",
        "    ds = ds.window(window_size + 1, shift=1, drop_remainder=True)\n",
        "    ds = ds.flat_map(lambda w : w.batch(window_size + 1))\n",
        "    if shuffle == True :\n",
        "        ds = ds.shuffle(1000)\n",
        "\n",
        "    ds = ds.map(lambda w : (w[:-1], w[-1]))\n",
        "    return ds.batch(batch_size).prefetch(1)"
      ]
    },
    {
      "cell_type": "code",
      "execution_count": null,
      "id": "07b3cf5c",
      "metadata": {
        "id": "07b3cf5c"
      },
      "outputs": [],
      "source": [
        "# 학습용과 검증용으로 나눈다.\n",
        "X_train, X_test, y_train, y_test = train_test_split(X, y, test_size=0.2,\n",
        "                                                   random_state=1,\n",
        "                                                   shuffle=False)"
      ]
    },
    {
      "cell_type": "code",
      "execution_count": null,
      "id": "49737001",
      "metadata": {
        "id": "49737001"
      },
      "outputs": [],
      "source": [
        "X_train = X[:-100]\n",
        "X_test = X[-100:]\n",
        "y_train = y[:-100]\n",
        "y_test = y[-100:]"
      ]
    },
    {
      "cell_type": "code",
      "execution_count": null,
      "id": "48b424c2",
      "metadata": {
        "id": "48b424c2"
      },
      "outputs": [],
      "source": [
        "# 결과를 확인하기 위한 앞선 데이터의 수\n",
        "WINDOW_SIZE = 20\n",
        "# 데이터 배치 사이즈\n",
        "BATCH_SIZE = 32"
      ]
    },
    {
      "cell_type": "code",
      "execution_count": null,
      "id": "e7b34aac",
      "metadata": {
        "id": "e7b34aac"
      },
      "outputs": [],
      "source": [
        "# train_data는 학습용 데이터셋, test_data는 검증용 데이터 셋\n",
        "train_data = windowed_dataset(y_train, WINDOW_SIZE, BATCH_SIZE, True)\n",
        "test_data = windowed_dataset(y_test, WINDOW_SIZE, BATCH_SIZE, False)"
      ]
    },
    {
      "cell_type": "code",
      "execution_count": null,
      "id": "aeafdcbd",
      "metadata": {
        "id": "aeafdcbd",
        "outputId": "8ff9dc7f-d9ed-415e-caf9-b0ceaf206b27"
      },
      "outputs": [
        {
          "data": {
            "text/plain": [
              "<keras.engine.sequential.Sequential at 0x1d305f407c0>"
            ]
          },
          "execution_count": 15,
          "metadata": {},
          "output_type": "execute_result"
        }
      ],
      "source": [
        "# 모델을 가져온다.\n",
        "path = './model/모델평가용삼성_LSTM/'\n",
        "best_model = load_model(path + '/best_model.h5')\n",
        "best_model"
      ]
    },
    {
      "cell_type": "code",
      "execution_count": null,
      "id": "ff4194a4",
      "metadata": {
        "id": "ff4194a4",
        "outputId": "16197bc2-2c06-42e4-a317-afee2516db21"
      },
      "outputs": [
        {
          "data": {
            "text/plain": [
              "<keras.engine.sequential.Sequential at 0x1d30620e580>"
            ]
          },
          "execution_count": 16,
          "metadata": {},
          "output_type": "execute_result"
        }
      ],
      "source": [
        "# 모델을 가져온다.\n",
        "path2 = './model/모델평가용삼성_LSTM_AE/'\n",
        "best_model2 = load_model(path2 + '/best_model.h5')\n",
        "best_model2"
      ]
    },
    {
      "cell_type": "code",
      "execution_count": null,
      "id": "aed219cc",
      "metadata": {
        "id": "aed219cc",
        "outputId": "1838842f-596e-450f-d4ea-49491a0540a0"
      },
      "outputs": [
        {
          "data": {
            "text/plain": [
              "<keras.engine.sequential.Sequential at 0x1d364240fa0>"
            ]
          },
          "execution_count": 17,
          "metadata": {},
          "output_type": "execute_result"
        }
      ],
      "source": [
        "# 모델을 가져온다.\n",
        "path3 = './model/모델평가용삼성_양방향LSTM/'\n",
        "best_model3 = load_model(path3 + '/best_model.h5')\n",
        "best_model3"
      ]
    },
    {
      "cell_type": "code",
      "execution_count": null,
      "id": "dafe5331",
      "metadata": {
        "id": "dafe5331",
        "outputId": "5e9e0536-20bf-42b3-aac6-e1c91fdae178"
      },
      "outputs": [
        {
          "name": "stdout",
          "output_type": "stream",
          "text": [
            "3/3 [==============================] - 7s 537ms/step\n"
          ]
        },
        {
          "data": {
            "text/plain": [
              "array([0.68890786, 0.67882353, 0.67702   , 0.6597329 , 0.6568745 ,\n",
              "       0.6971406 , 0.6930554 , 0.6944318 , 0.70274216, 0.68139136,\n",
              "       0.6703871 , 0.67221963, 0.65855056, 0.6832421 , 0.67939466,\n",
              "       0.69713515, 0.7051353 , 0.6950475 , 0.704004  , 0.70293415,\n",
              "       0.6812934 , 0.68144786, 0.67428714, 0.6824843 , 0.6999137 ,\n",
              "       0.693762  , 0.6834192 , 0.6869658 , 0.6670526 , 0.6644169 ,\n",
              "       0.66395545, 0.6403311 , 0.6156472 , 0.617506  , 0.6021292 ,\n",
              "       0.60677135, 0.59298843, 0.57822585, 0.57942635, 0.56780076,\n",
              "       0.5662805 , 0.5828028 , 0.58689356, 0.5932648 , 0.5721906 ,\n",
              "       0.5590379 , 0.5512692 , 0.56620663, 0.5671359 , 0.55331355,\n",
              "       0.581308  , 0.5868282 , 0.5840415 , 0.574336  , 0.5740379 ,\n",
              "       0.56794375, 0.60407716, 0.627075  , 0.60641307, 0.60165304,\n",
              "       0.6227299 , 0.61320823, 0.60944927, 0.61974186, 0.61972845,\n",
              "       0.6201331 , 0.61337036, 0.61252373, 0.6189284 , 0.61243767,\n",
              "       0.6153979 , 0.6158358 , 0.60549396, 0.59565556, 0.584984  ,\n",
              "       0.59865326, 0.6024845 , 0.611644  , 0.6022858 , 0.6176431 ],\n",
              "      dtype=float32)"
            ]
          },
          "execution_count": 18,
          "metadata": {},
          "output_type": "execute_result"
        }
      ],
      "source": [
        "# 검증데이터를 통해 예측 결과를 가져온다.\n",
        "pred = best_model.predict(test_data)\n",
        "pred = pred.reshape(-1)\n",
        "pred"
      ]
    },
    {
      "cell_type": "code",
      "execution_count": null,
      "id": "e7c28931",
      "metadata": {
        "id": "e7c28931",
        "outputId": "0a06a496-c6ab-4a43-a1db-c94afb439bf3"
      },
      "outputs": [
        {
          "name": "stdout",
          "output_type": "stream",
          "text": [
            "3/3 [==============================] - 2s 41ms/step\n"
          ]
        },
        {
          "data": {
            "text/plain": [
              "array([0.68666863, 0.67894447, 0.67669165, 0.6625308 , 0.6602779 ,\n",
              "       0.69246167, 0.6895652 , 0.691818  , 0.6972892 , 0.68087554,\n",
              "       0.67186403, 0.6721859 , 0.6618871 , 0.6811974 , 0.6776571 ,\n",
              "       0.69342715, 0.69954205, 0.69246167, 0.69954205, 0.6985766 ,\n",
              "       0.6811974 , 0.68087554, 0.6747606 , 0.68151927, 0.6953582 ,\n",
              "       0.6911743 , 0.68312836, 0.6850594 , 0.6686457 , 0.66671467,\n",
              "       0.6654273 , 0.64740443, 0.6258413 , 0.62487584, 0.60878396,\n",
              "       0.6123241 , 0.59558856, 0.5811059 , 0.5801404 , 0.56823236,\n",
              "       0.56597954, 0.5804622 , 0.5843243 , 0.59140474, 0.57112896,\n",
              "       0.55889904, 0.55020946, 0.56437033, 0.56404847, 0.55149686,\n",
              "       0.57788754, 0.5833587 , 0.58303696, 0.5730599 , 0.5730599 ,\n",
              "       0.5669451 , 0.6023472 , 0.624554  , 0.60814023, 0.6036345 ,\n",
              "       0.62326664, 0.61586434, 0.6129678 , 0.6206919 , 0.6223011 ,\n",
              "       0.62326664, 0.6168298 , 0.61586434, 0.62133557, 0.61554253,\n",
              "       0.6184391 , 0.6184391 , 0.60878396, 0.5984851 , 0.586899  ,\n",
              "       0.59977245, 0.602669  , 0.6123241 , 0.60299087, 0.6184391 ],\n",
              "      dtype=float32)"
            ]
          },
          "execution_count": 19,
          "metadata": {},
          "output_type": "execute_result"
        }
      ],
      "source": [
        "# 검증데이터를 통해 예측 결과를 가져온다.\n",
        "pred2 = best_model2.predict(test_data)\n",
        "pred2 = pred2.reshape(-1)\n",
        "pred2"
      ]
    },
    {
      "cell_type": "code",
      "execution_count": null,
      "id": "9682b180",
      "metadata": {
        "id": "9682b180",
        "outputId": "32590167-d575-42fa-81ad-88a5b08a22f6"
      },
      "outputs": [
        {
          "name": "stdout",
          "output_type": "stream",
          "text": [
            "3/3 [==============================] - 1s 41ms/step\n"
          ]
        },
        {
          "data": {
            "text/plain": [
              "array([0.688987  , 0.6780193 , 0.6744288 , 0.6622635 , 0.65780413,\n",
              "       0.68932617, 0.6957524 , 0.6958033 , 0.6994393 , 0.6828835 ,\n",
              "       0.66908383, 0.6684195 , 0.6607467 , 0.6784718 , 0.68120956,\n",
              "       0.6951958 , 0.70362794, 0.69621336, 0.6993412 , 0.6994393 ,\n",
              "       0.6821747 , 0.67726076, 0.6729232 , 0.67989457, 0.69640875,\n",
              "       0.6955602 , 0.6849004 , 0.68337953, 0.66877985, 0.66382873,\n",
              "       0.6636189 , 0.64795923, 0.6252657 , 0.6202538 , 0.60980284,\n",
              "       0.61051786, 0.60144305, 0.58769596, 0.58328855, 0.57343495,\n",
              "       0.5696794 , 0.58192945, 0.59005654, 0.5968034 , 0.5809814 ,\n",
              "       0.5650286 , 0.5541011 , 0.5635115 , 0.5680754 , 0.5591054 ,\n",
              "       0.57748735, 0.5890869 , 0.59002185, 0.5805924 , 0.57688963,\n",
              "       0.5711604 , 0.5993427 , 0.6248679 , 0.6165366 , 0.60781205,\n",
              "       0.6192558 , 0.6177546 , 0.6139484 , 0.61963665, 0.6227217 ,\n",
              "       0.6238365 , 0.61812824, 0.61582327, 0.619989  , 0.6172353 ,\n",
              "       0.6180675 , 0.6185659 , 0.61167896, 0.60224986, 0.592155  ,\n",
              "       0.5992582 , 0.6050385 , 0.613376  , 0.60871255, 0.6173244 ],\n",
              "      dtype=float32)"
            ]
          },
          "execution_count": 20,
          "metadata": {},
          "output_type": "execute_result"
        }
      ],
      "source": [
        "# 검증데이터를 통해 예측 결과를 가져온다.\n",
        "pred3 = best_model3.predict(test_data)\n",
        "pred3 = pred3.reshape(-1)\n",
        "pred3"
      ]
    },
    {
      "cell_type": "code",
      "execution_count": null,
      "id": "2e2e3db8",
      "metadata": {
        "scrolled": true,
        "id": "2e2e3db8",
        "outputId": "55d7a67b-1480-42cd-e9ee-cfe85ea32fe6"
      },
      "outputs": [
        {
          "data": {
            "text/plain": [
              "array([0.68087855, 0.67829457, 0.66408269, 0.66149871, 0.69509044,\n",
              "       0.69379845, 0.69638243, 0.70155039, 0.68346253, 0.67312661,\n",
              "       0.67312661, 0.6627907 , 0.68346253, 0.68087855, 0.69767442,\n",
              "       0.70413437, 0.69638243, 0.70284238, 0.70155039, 0.68346253,\n",
              "       0.68217054, 0.67571059, 0.68346253, 0.69896641, 0.69509044,\n",
              "       0.68604651, 0.6873385 , 0.67054264, 0.66795866, 0.66666667,\n",
              "       0.64857881, 0.62661499, 0.62403101, 0.60852713, 0.61111111,\n",
              "       0.59689922, 0.58268734, 0.58010336, 0.56847545, 0.56589147,\n",
              "       0.57881137, 0.58397933, 0.59173127, 0.57364341, 0.56072351,\n",
              "       0.5503876 , 0.5620155 , 0.56330749, 0.55297158, 0.57622739,\n",
              "       0.58268734, 0.58397933, 0.5749354 , 0.57364341, 0.56718346,\n",
              "       0.5994832 , 0.62403101, 0.61111111, 0.60594315, 0.62273902,\n",
              "       0.61627907, 0.61369509, 0.62144703, 0.62273902, 0.62403101,\n",
              "       0.61757106, 0.61627907, 0.62144703, 0.61627907, 0.61886305,\n",
              "       0.61886305, 0.60981912, 0.5994832 , 0.5878553 , 0.59819121,\n",
              "       0.60206718, 0.6124031 , 0.60465116, 0.61886305, 0.61111111])"
            ]
          },
          "execution_count": 21,
          "metadata": {},
          "output_type": "execute_result"
        }
      ],
      "source": [
        "# 원래 결과를 1차원으로 변환한다.\n",
        "y_test2 = y_test.reshape(-1)\n",
        "# 20일치를 가지고 21일째를 예측하기 떄문에\n",
        "# 앞선 20일은 예측하지 않는다.\n",
        "y_test2 = y_test2[20:]\n",
        "y_test2"
      ]
    },
    {
      "cell_type": "code",
      "execution_count": null,
      "id": "97f27547",
      "metadata": {
        "scrolled": true,
        "id": "97f27547",
        "outputId": "70d81d93-d51d-46f9-de6c-61505008bdec"
      },
      "outputs": [
        {
          "data": {
            "image/png": "[encoded data removed]",
            "text/plain": [
              "<Figure size 1440x720 with 1 Axes>"
            ]
          },
          "metadata": {
            "needs_background": "light"
          },
          "output_type": "display_data"
        }
      ],
      "source": [
        "# 양방향 LSTM\n",
        "# plt.title('달러_코스피 그래프')\n",
        "plt.plot(y_test2, label = '삼성')\n",
        "plt.plot(pred, label='LSTM')\n",
        "plt.plot(pred2, label='LSTM-AE')\n",
        "plt.plot(pred3, label = '양방향LSTM')\n",
        "# plt.xticks(cell.index)\n",
        "plt.legend()\n",
        "plt.show()"
      ]
    },
    {
      "cell_type": "code",
      "execution_count": null,
      "id": "8db61e87",
      "metadata": {
        "id": "8db61e87"
      },
      "outputs": [],
      "source": []
    }
  ],
  "metadata": {
    "kernelspec": {
      "display_name": "Python 3 (ipykernel)",
      "language": "python",
      "name": "python3"
    },
    "language_info": {
      "codemirror_mode": {
        "name": "ipython",
        "version": 3
      },
      "file_extension": ".py",
      "mimetype": "text/x-python",
      "name": "python",
      "nbconvert_exporter": "python",
      "pygments_lexer": "ipython3",
      "version": "3.9.12"
    },
    "colab": {
      "provenance": [],
      "include_colab_link": true
    }
  },
  "nbformat": 4,
  "nbformat_minor": 5
}